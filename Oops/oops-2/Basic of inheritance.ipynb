{
 "cells": [
  {
   "cell_type": "code",
   "execution_count": 1,
   "id": "9fbe7112",
   "metadata": {},
   "outputs": [],
   "source": [
    "#Parent class\n",
    "class vehicle:\n",
    "    def __init__(self,make,model,fuel):\n",
    "        self.make=make\n",
    "        self.model=model\n",
    "        self.furl=fuel"
   ]
  },
  {
   "cell_type": "code",
   "execution_count": 7,
   "id": "3d6c1db3",
   "metadata": {},
   "outputs": [],
   "source": [
    "#child class\n",
    "class car(vehicle):\n",
    "    def __init__(self ,make,model,fuel,air_conditioning,sunroof):\n",
    "        vehicle.make=make\n",
    "        vehicle.model=model\n",
    "        vehicle.fuel=fuel\n",
    "        \n",
    "        self.air_conditioning=air_conditioning\n",
    "        self.sunroof=sunroof\n",
    "    # to show parent calss attributes\n",
    "    def show_prt_attri(self):\n",
    "        print(vehicle.make,' ',vehicle.model,' ',vehicle.fuel)"
   ]
  },
  {
   "cell_type": "code",
   "execution_count": 8,
   "id": "e7d97590",
   "metadata": {},
   "outputs": [],
   "source": [
    "#passing the attributes value\n",
    "obj1=car('Tesla',2020,'Electric',True,True)"
   ]
  },
  {
   "cell_type": "code",
   "execution_count": 9,
   "id": "3ed76fda",
   "metadata": {},
   "outputs": [
    {
     "data": {
      "text/plain": [
       "{'air_conditioning': True, 'sunroof': True}"
      ]
     },
     "execution_count": 9,
     "metadata": {},
     "output_type": "execute_result"
    }
   ],
   "source": [
    "# will show only base class attributes\n",
    "obj1.__dict__"
   ]
  },
  {
   "cell_type": "code",
   "execution_count": 10,
   "id": "ad1fa801",
   "metadata": {},
   "outputs": [
    {
     "name": "stdout",
     "output_type": "stream",
     "text": [
      "Tesla   2020   Electric\n"
     ]
    }
   ],
   "source": [
    "#to access parent class attributes\n",
    "obj1.show_prt_attri()"
   ]
  }
 ],
 "metadata": {
  "kernelspec": {
   "display_name": "Python 3 (ipykernel)",
   "language": "python",
   "name": "python3"
  },
  "language_info": {
   "codemirror_mode": {
    "name": "ipython",
    "version": 3
   },
   "file_extension": ".py",
   "mimetype": "text/x-python",
   "name": "python",
   "nbconvert_exporter": "python",
   "pygments_lexer": "ipython3",
   "version": "3.9.13"
  }
 },
 "nbformat": 4,
 "nbformat_minor": 5
}

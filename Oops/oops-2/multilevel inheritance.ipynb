{
 "cells": [
  {
   "cell_type": "code",
   "execution_count": 1,
   "id": "963b2182",
   "metadata": {},
   "outputs": [],
   "source": [
    "#Parent class\n",
    "class vehicle:\n",
    "    \n",
    "    def __init__(self,make,model,fuel):\n",
    "        self.make=make\n",
    "        self.model=model\n",
    "        self.ferl=fuel\n",
    "\n",
    "        \n",
    "#child class\n",
    "class car(vehicle):\n",
    "    def __init__(self ,make,model,fuel,air_conditioning,sunroof):\n",
    "        \n",
    "        super(car ,self).__init__(make,model,fuel)\n",
    "        \n",
    "        \n",
    "        self.air_conditioning=air_conditioning\n",
    "        self.sunroof=sunroof    \n",
    "        \n",
    "class Ecar(car):\n",
    "    \n",
    "    def __init__(self ,make,model,fuel,air_conditioning,sunroof,distance):\n",
    "        super(Ecar,self).__init__(make,model,fuel,air_conditioning,sunroof)\n",
    "        \n",
    "        self.distance=distance"
   ]
  },
  {
   "cell_type": "code",
   "execution_count": 2,
   "id": "2e6876cf",
   "metadata": {},
   "outputs": [],
   "source": [
    "obj=Ecar('tesla',2021,'electric',True,True,500)"
   ]
  },
  {
   "cell_type": "code",
   "execution_count": 3,
   "id": "cb8285b2",
   "metadata": {},
   "outputs": [
    {
     "data": {
      "text/plain": [
       "{'make': 'tesla',\n",
       " 'model': 2021,\n",
       " 'ferl': 'electric',\n",
       " 'air_conditioning': True,\n",
       " 'sunroof': True,\n",
       " 'distance': 500}"
      ]
     },
     "execution_count": 3,
     "metadata": {},
     "output_type": "execute_result"
    }
   ],
   "source": [
    "#having all the attributes value\n",
    "obj.__dict__"
   ]
  },
  {
   "cell_type": "code",
   "execution_count": null,
   "id": "232aead4",
   "metadata": {},
   "outputs": [],
   "source": []
  }
 ],
 "metadata": {
  "kernelspec": {
   "display_name": "Python 3 (ipykernel)",
   "language": "python",
   "name": "python3"
  },
  "language_info": {
   "codemirror_mode": {
    "name": "ipython",
    "version": 3
   },
   "file_extension": ".py",
   "mimetype": "text/x-python",
   "name": "python",
   "nbconvert_exporter": "python",
   "pygments_lexer": "ipython3",
   "version": "3.9.13"
  }
 },
 "nbformat": 4,
 "nbformat_minor": 5
}

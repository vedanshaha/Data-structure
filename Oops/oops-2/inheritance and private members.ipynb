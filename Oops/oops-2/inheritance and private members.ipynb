{
 "cells": [
  {
   "cell_type": "code",
   "execution_count": 11,
   "id": "169e809e",
   "metadata": {},
   "outputs": [],
   "source": [
    "#Parent class\n",
    "class vehicle:\n",
    "    def __init__(self,make,model,fuel):\n",
    "        self.make=make\n",
    "        #private\n",
    "        self.__model=model\n",
    "        self.__furl=fuel\n",
    "    \n",
    "    def __private_method_parent(self):\n",
    "        print('this is private')"
   ]
  },
  {
   "cell_type": "code",
   "execution_count": 12,
   "id": "24ca7bfa",
   "metadata": {},
   "outputs": [],
   "source": [
    "#child class\n",
    "class car(vehicle):\n",
    "    def __init__(self ,make,model,fuel,air_conditioning,sunroof):\n",
    "        vehicle.make=make\n",
    "        vehicle.__model=model #changed to private here also\n",
    "        vehicle.__fuel=fuel\n",
    "        \n",
    "        self.air_conditioning=air_conditioning\n",
    "        self.sunroof=sunroof\n",
    "    # to show parent calss attributes\n",
    "    def show_prt_attri(self):\n",
    "        print(vehicle.make,' ',vehicle.__model,' ',vehicle.__fuel)"
   ]
  },
  {
   "cell_type": "code",
   "execution_count": 13,
   "id": "60b50e08",
   "metadata": {},
   "outputs": [],
   "source": [
    "obj1=car('Tesla',2020,'Electric',True,True)"
   ]
  },
  {
   "cell_type": "code",
   "execution_count": 16,
   "id": "2cdbdfa4",
   "metadata": {},
   "outputs": [
    {
     "ename": "AttributeError",
     "evalue": "'car' object has no attribute 'model'",
     "output_type": "error",
     "traceback": [
      "\u001b[1;31m---------------------------------------------------------------------------\u001b[0m",
      "\u001b[1;31mAttributeError\u001b[0m                            Traceback (most recent call last)",
      "\u001b[1;32m~\\AppData\\Local\\Temp\\ipykernel_2448\\555585886.py\u001b[0m in \u001b[0;36m<module>\u001b[1;34m\u001b[0m\n\u001b[1;32m----> 1\u001b[1;33m \u001b[0mobj1\u001b[0m\u001b[1;33m.\u001b[0m\u001b[0mmodel\u001b[0m\u001b[1;33m\u001b[0m\u001b[1;33m\u001b[0m\u001b[0m\n\u001b[0m",
      "\u001b[1;31mAttributeError\u001b[0m: 'car' object has no attribute 'model'"
     ]
    }
   ],
   "source": [
    "# unable to access the private attribute here\n",
    "obj1.model"
   ]
  },
  {
   "cell_type": "code",
   "execution_count": 18,
   "id": "d9794189",
   "metadata": {},
   "outputs": [
    {
     "ename": "AttributeError",
     "evalue": "'car' object has no attribute '__model'",
     "output_type": "error",
     "traceback": [
      "\u001b[1;31m---------------------------------------------------------------------------\u001b[0m",
      "\u001b[1;31mAttributeError\u001b[0m                            Traceback (most recent call last)",
      "\u001b[1;32m~\\AppData\\Local\\Temp\\ipykernel_2448\\3333663399.py\u001b[0m in \u001b[0;36m<module>\u001b[1;34m\u001b[0m\n\u001b[1;32m----> 1\u001b[1;33m \u001b[0mobj1\u001b[0m\u001b[1;33m.\u001b[0m\u001b[0m__model\u001b[0m\u001b[1;33m\u001b[0m\u001b[1;33m\u001b[0m\u001b[0m\n\u001b[0m",
      "\u001b[1;31mAttributeError\u001b[0m: 'car' object has no attribute '__model'"
     ]
    }
   ],
   "source": [
    "# unable to access the private attribute here\n",
    "obj1.__model"
   ]
  },
  {
   "cell_type": "code",
   "execution_count": 22,
   "id": "dd6cfe60",
   "metadata": {},
   "outputs": [
    {
     "data": {
      "text/plain": [
       "'Tesla'"
      ]
     },
     "execution_count": 22,
     "metadata": {},
     "output_type": "execute_result"
    }
   ],
   "source": [
    "#able to access public attribute\n",
    "obj1.make"
   ]
  },
  {
   "cell_type": "code",
   "execution_count": null,
   "id": "1fbe25d1",
   "metadata": {},
   "outputs": [],
   "source": []
  }
 ],
 "metadata": {
  "kernelspec": {
   "display_name": "Python 3 (ipykernel)",
   "language": "python",
   "name": "python3"
  },
  "language_info": {
   "codemirror_mode": {
    "name": "ipython",
    "version": 3
   },
   "file_extension": ".py",
   "mimetype": "text/x-python",
   "name": "python",
   "nbconvert_exporter": "python",
   "pygments_lexer": "ipython3",
   "version": "3.9.13"
  }
 },
 "nbformat": 4,
 "nbformat_minor": 5
}

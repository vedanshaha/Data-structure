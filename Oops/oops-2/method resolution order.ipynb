{
 "cells": [
  {
   "cell_type": "code",
   "execution_count": 3,
   "id": "f906df30",
   "metadata": {},
   "outputs": [],
   "source": [
    "class Car():\n",
    "    def __init__(self,make,model,fuel):\n",
    "        self.make=make\n",
    "        self.model=model\n",
    "        self.fuel=fuel\n",
    "    \n",
    "    def get_car_details(self):\n",
    "        return 'the make of the car ',self.make,'from car class'\n",
    "    \n",
    "class Ecar():\n",
    "    def __init__(self,make,model,fuel):\n",
    "        self.make=make\n",
    "        self.model=model\n",
    "        self.fuel=fuel\n",
    "    \n",
    "    def get_car_details(self):\n",
    "        return 'the make of the car ',self.make,'from Ecar class'    "
   ]
  },
  {
   "cell_type": "code",
   "execution_count": 10,
   "id": "d38780d0",
   "metadata": {},
   "outputs": [],
   "source": [
    "class Taxi(Car,Ecar):#multiple inheritance\n",
    "    def __init__(self,make,model,fuel):\n",
    "        super(Taxi,self).__init__(make,model,fuel)"
   ]
  },
  {
   "cell_type": "code",
   "execution_count": 11,
   "id": "a4b35bf9",
   "metadata": {},
   "outputs": [],
   "source": [
    "obj=Taxi('ford',2020,'petrol')"
   ]
  },
  {
   "cell_type": "code",
   "execution_count": 12,
   "id": "d9590631",
   "metadata": {},
   "outputs": [
    {
     "data": {
      "text/plain": [
       "('the make of the car ', 'ford', 'from car class')"
      ]
     },
     "execution_count": 12,
     "metadata": {},
     "output_type": "execute_result"
    }
   ],
   "source": [
    "# it has shown the details from car class because car class is written first\n",
    "obj.get_car_details()"
   ]
  },
  {
   "cell_type": "code",
   "execution_count": 18,
   "id": "e37d4bde",
   "metadata": {},
   "outputs": [],
   "source": [
    "#lets see what happens now\n",
    "class Taxi(Ecar,Car):#multiple inheritance\n",
    "    def __init__(self,make,model,fuel):\n",
    "        super(Taxi,self).__init__(make,model,fuel)"
   ]
  },
  {
   "cell_type": "code",
   "execution_count": 20,
   "id": "afe6468a",
   "metadata": {},
   "outputs": [],
   "source": [
    "obj=Taxi('ford',2020,'petrol')"
   ]
  },
  {
   "cell_type": "code",
   "execution_count": 22,
   "id": "cffa92f0",
   "metadata": {},
   "outputs": [
    {
     "data": {
      "text/plain": [
       "('the make of the car ', 'ford', 'from Ecar class')"
      ]
     },
     "execution_count": 22,
     "metadata": {},
     "output_type": "execute_result"
    }
   ],
   "source": [
    "# now it shown from Ecar means the first class which is inherited has prefrence\n",
    "obj.get_car_details()"
   ]
  },
  {
   "cell_type": "code",
   "execution_count": 23,
   "id": "d844d18e",
   "metadata": {},
   "outputs": [
    {
     "data": {
      "text/plain": [
       "[__main__.Taxi, __main__.Ecar, __main__.Car, object]"
      ]
     },
     "execution_count": 23,
     "metadata": {},
     "output_type": "execute_result"
    }
   ],
   "source": [
    "#to check Method Resolution Order\n",
    "Taxi.mro()"
   ]
  },
  {
   "cell_type": "code",
   "execution_count": null,
   "id": "c60694e5",
   "metadata": {},
   "outputs": [],
   "source": []
  }
 ],
 "metadata": {
  "kernelspec": {
   "display_name": "Python 3 (ipykernel)",
   "language": "python",
   "name": "python3"
  },
  "language_info": {
   "codemirror_mode": {
    "name": "ipython",
    "version": 3
   },
   "file_extension": ".py",
   "mimetype": "text/x-python",
   "name": "python",
   "nbconvert_exporter": "python",
   "pygments_lexer": "ipython3",
   "version": "3.9.13"
  }
 },
 "nbformat": 4,
 "nbformat_minor": 5
}

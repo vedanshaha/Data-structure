{
 "cells": [
  {
   "cell_type": "code",
   "execution_count": 11,
   "id": "f064a381",
   "metadata": {},
   "outputs": [],
   "source": [
    "class Vehicle:\n",
    "    def __init__(self,make,model,fare):\n",
    "        self.make=make\n",
    "        self.model=model\n",
    "        self.fare=fare\n",
    "    def __str__(self):\n",
    "        return \"The make of the model is {} and the model is of {} with a fare of {}\".format(self.make,self.model,self.fare)\n",
    "   \n",
    "    # oveloaded the add  operator now after tpe error\n",
    "    def __add__(self,other):\n",
    "        return self.fare+other.fare\n"
   ]
  },
  {
   "cell_type": "code",
   "execution_count": 12,
   "id": "a59dc535",
   "metadata": {},
   "outputs": [],
   "source": [
    "myob1=Vehicle(\"Tesla\",2019,40)"
   ]
  },
  {
   "cell_type": "code",
   "execution_count": 13,
   "id": "af7b84a6",
   "metadata": {},
   "outputs": [],
   "source": [
    "myob2=Vehicle(\"ford\",2018,80)"
   ]
  },
  {
   "cell_type": "code",
   "execution_count": 14,
   "id": "dc1a92d9",
   "metadata": {},
   "outputs": [
    {
     "name": "stdout",
     "output_type": "stream",
     "text": [
      "The make of the model is Tesla and the model is of 2019 with a fare of 40\n"
     ]
    }
   ],
   "source": [
    "print(myob1)"
   ]
  },
  {
   "cell_type": "code",
   "execution_count": 10,
   "id": "083dac23",
   "metadata": {},
   "outputs": [
    {
     "ename": "TypeError",
     "evalue": "unsupported operand type(s) for +: 'Vehicle' and 'Vehicle'",
     "output_type": "error",
     "traceback": [
      "\u001b[1;31m---------------------------------------------------------------------------\u001b[0m",
      "\u001b[1;31mTypeError\u001b[0m                                 Traceback (most recent call last)",
      "\u001b[1;32m~\\AppData\\Local\\Temp\\ipykernel_13468\\1237831670.py\u001b[0m in \u001b[0;36m<module>\u001b[1;34m\u001b[0m\n\u001b[0;32m      1\u001b[0m \u001b[1;31m# showing type error  but we can over load it to give sum off fare\u001b[0m\u001b[1;33m\u001b[0m\u001b[1;33m\u001b[0m\u001b[0m\n\u001b[1;32m----> 2\u001b[1;33m \u001b[0mmyob1\u001b[0m\u001b[1;33m+\u001b[0m\u001b[0mmyob2\u001b[0m\u001b[1;33m\u001b[0m\u001b[1;33m\u001b[0m\u001b[0m\n\u001b[0m",
      "\u001b[1;31mTypeError\u001b[0m: unsupported operand type(s) for +: 'Vehicle' and 'Vehicle'"
     ]
    }
   ],
   "source": [
    "# showing type error  but we can over load it to give sum off fare\n",
    "myob1+myob2"
   ]
  },
  {
   "cell_type": "code",
   "execution_count": 15,
   "id": "cc744e84",
   "metadata": {},
   "outputs": [
    {
     "data": {
      "text/plain": [
       "120"
      ]
     },
     "execution_count": 15,
     "metadata": {},
     "output_type": "execute_result"
    }
   ],
   "source": [
    "#after overloding\n",
    "myob1+myob2"
   ]
  },
  {
   "cell_type": "code",
   "execution_count": null,
   "id": "72253381",
   "metadata": {},
   "outputs": [],
   "source": []
  }
 ],
 "metadata": {
  "kernelspec": {
   "display_name": "Python 3 (ipykernel)",
   "language": "python",
   "name": "python3"
  },
  "language_info": {
   "codemirror_mode": {
    "name": "ipython",
    "version": 3
   },
   "file_extension": ".py",
   "mimetype": "text/x-python",
   "name": "python",
   "nbconvert_exporter": "python",
   "pygments_lexer": "ipython3",
   "version": "3.9.13"
  }
 },
 "nbformat": 4,
 "nbformat_minor": 5
}

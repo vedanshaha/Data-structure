{
 "cells": [
  {
   "cell_type": "code",
   "execution_count": 24,
   "id": "cb9a148d",
   "metadata": {},
   "outputs": [],
   "source": [
    "#Parent class\n",
    "class vehicle:\n",
    "    current_year=2022\n",
    "    base_price=1000\n",
    "    def __init__(self,make,model,fuel):\n",
    "        self.make=make\n",
    "        #private\n",
    "        self.__model=model\n",
    "        self.__furl=fuel\n",
    "    \n",
    "    # default function to get value\n",
    "    def get_value(self):\n",
    "        age=vehicle.current_year - self.__model\n",
    "        print('default')\n",
    "        return vehicle.base_price * (1/age)\n",
    "        "
   ]
  },
  {
   "cell_type": "code",
   "execution_count": 25,
   "id": "90670204",
   "metadata": {},
   "outputs": [],
   "source": [
    "#child class\n",
    "class car(vehicle):\n",
    "    def __init__(self ,make,model,fuel,air_conditioning,sunroof):\n",
    "        \n",
    "        #initilizing super function\n",
    "        \n",
    "        super(car ,self).__init__(make,model,fuel)\n",
    "        \n",
    "        \n",
    "        self.air_conditioning=air_conditioning\n",
    "        self.sunroof=sunroof\n",
    "    \n",
    "    # this function will override the parent function for object of base class\n",
    "    def get_value(self):\n",
    "        vehicle.base_price=500\n",
    "        age=vehicle.current_year - self._vehicle__model\n",
    "        print('override')\n",
    "        return vehicle.base_price * (1/age)\n",
    "   "
   ]
  },
  {
   "cell_type": "code",
   "execution_count": 26,
   "id": "23810e36",
   "metadata": {},
   "outputs": [],
   "source": [
    "obj1=car('Tesla',2020,'Electric',True,True)"
   ]
  },
  {
   "cell_type": "code",
   "execution_count": 27,
   "id": "004778d2",
   "metadata": {},
   "outputs": [
    {
     "name": "stdout",
     "output_type": "stream",
     "text": [
      "override\n"
     ]
    },
    {
     "data": {
      "text/plain": [
       "250.0"
      ]
     },
     "execution_count": 27,
     "metadata": {},
     "output_type": "execute_result"
    }
   ],
   "source": [
    "# value from the override function\n",
    "obj1.get_value()"
   ]
  },
  {
   "cell_type": "code",
   "execution_count": 28,
   "id": "0b5655b8",
   "metadata": {},
   "outputs": [],
   "source": [
    "#creating obj of parent class\n",
    "obj2=vehicle('BMW',2019,'DIESEL')"
   ]
  },
  {
   "cell_type": "code",
   "execution_count": 29,
   "id": "68452c25",
   "metadata": {},
   "outputs": [
    {
     "data": {
      "text/plain": [
       "{'make': 'BMW', '_vehicle__model': 2019, '_vehicle__furl': 'DIESEL'}"
      ]
     },
     "execution_count": 29,
     "metadata": {},
     "output_type": "execute_result"
    }
   ],
   "source": [
    "obj2.__dict__"
   ]
  },
  {
   "cell_type": "code",
   "execution_count": 30,
   "id": "ad9bd533",
   "metadata": {},
   "outputs": [
    {
     "name": "stdout",
     "output_type": "stream",
     "text": [
      "default\n"
     ]
    },
    {
     "data": {
      "text/plain": [
       "166.66666666666666"
      ]
     },
     "execution_count": 30,
     "metadata": {},
     "output_type": "execute_result"
    }
   ],
   "source": [
    "# getting value from default\n",
    "obj2.get_value()"
   ]
  },
  {
   "cell_type": "code",
   "execution_count": null,
   "id": "54698664",
   "metadata": {},
   "outputs": [],
   "source": []
  }
 ],
 "metadata": {
  "kernelspec": {
   "display_name": "Python 3 (ipykernel)",
   "language": "python",
   "name": "python3"
  },
  "language_info": {
   "codemirror_mode": {
    "name": "ipython",
    "version": 3
   },
   "file_extension": ".py",
   "mimetype": "text/x-python",
   "name": "python",
   "nbconvert_exporter": "python",
   "pygments_lexer": "ipython3",
   "version": "3.9.13"
  }
 },
 "nbformat": 4,
 "nbformat_minor": 5
}

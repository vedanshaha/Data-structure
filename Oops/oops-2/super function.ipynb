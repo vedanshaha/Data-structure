{
 "cells": [
  {
   "cell_type": "code",
   "execution_count": 2,
   "id": "4ccf43e0",
   "metadata": {},
   "outputs": [],
   "source": [
    "#Parent class\n",
    "class vehicle:\n",
    "    def __init__(self,make,model,fuel):\n",
    "        self.make=make\n",
    "        #private\n",
    "        self.__model=model\n",
    "        self.__furl=fuel\n",
    "    \n",
    "    def __private_method_parent(self):\n",
    "        print('this is private')"
   ]
  },
  {
   "cell_type": "code",
   "execution_count": 3,
   "id": "37c8496d",
   "metadata": {},
   "outputs": [],
   "source": [
    "#child class\n",
    "class car(vehicle):\n",
    "    def __init__(self ,make,model,fuel,air_conditioning,sunroof):\n",
    "        \n",
    "        #initilizing super function\n",
    "        \n",
    "        super(car ,self).__init__(make,model,fuel)\n",
    "        \n",
    "        \n",
    "        self.air_conditioning=air_conditioning\n",
    "        self.sunroof=sunroof\n",
    "   "
   ]
  },
  {
   "cell_type": "code",
   "execution_count": 4,
   "id": "485a9a9a",
   "metadata": {},
   "outputs": [],
   "source": [
    "obj1=car('Tesla',2020,'Electric',True,True)"
   ]
  },
  {
   "cell_type": "code",
   "execution_count": 6,
   "id": "28ba8dfc",
   "metadata": {},
   "outputs": [
    {
     "data": {
      "text/plain": [
       "{'make': 'Tesla',\n",
       " '_vehicle__model': 2020,\n",
       " '_vehicle__furl': 'Electric',\n",
       " 'air_conditioning': True,\n",
       " 'sunroof': True}"
      ]
     },
     "execution_count": 6,
     "metadata": {},
     "output_type": "execute_result"
    }
   ],
   "source": [
    "# can access the private varible also\n",
    "obj1.__dict__"
   ]
  },
  {
   "cell_type": "code",
   "execution_count": 8,
   "id": "d7d33a37",
   "metadata": {},
   "outputs": [
    {
     "name": "stdout",
     "output_type": "stream",
     "text": [
      "this is private\n"
     ]
    }
   ],
   "source": [
    "# now obj can access the private method also\n",
    "obj1._vehicle__private_method_parent()"
   ]
  },
  {
   "cell_type": "code",
   "execution_count": null,
   "id": "4d486c10",
   "metadata": {},
   "outputs": [],
   "source": []
  }
 ],
 "metadata": {
  "kernelspec": {
   "display_name": "Python 3 (ipykernel)",
   "language": "python",
   "name": "python3"
  },
  "language_info": {
   "codemirror_mode": {
    "name": "ipython",
    "version": 3
   },
   "file_extension": ".py",
   "mimetype": "text/x-python",
   "name": "python",
   "nbconvert_exporter": "python",
   "pygments_lexer": "ipython3",
   "version": "3.9.13"
  }
 },
 "nbformat": 4,
 "nbformat_minor": 5
}

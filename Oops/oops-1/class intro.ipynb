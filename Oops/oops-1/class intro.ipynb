{
 "cells": [
  {
   "cell_type": "markdown",
   "id": "17be789e",
   "metadata": {},
   "source": [
    "# Class intro\n"
   ]
  },
  {
   "cell_type": "code",
   "execution_count": 3,
   "id": "b0e26abd",
   "metadata": {},
   "outputs": [],
   "source": [
    "class Expensetrack:\n",
    "    \"\"\"this is a class to trck expense\"\"\"\n",
    "    def __init__(self):\n",
    "        pass"
   ]
  },
  {
   "cell_type": "code",
   "execution_count": 4,
   "id": "944ab122",
   "metadata": {},
   "outputs": [],
   "source": [
    "#just checking how it works\n",
    "obj1=Expensetrack()"
   ]
  },
  {
   "cell_type": "code",
   "execution_count": 5,
   "id": "2e051754",
   "metadata": {},
   "outputs": [],
   "source": [
    "#use with some attributes\n",
    "class Expensetrack:\n",
    "    \"\"\"this is a class to trck expense\"\"\"\n",
    "    def __init__(self,date,description,trans_type,amnt):\n",
    "        #self here represent the instance in class\n",
    "        self.date= date\n",
    "        self.description=description\n",
    "        self.trans_type=trans_type\n",
    "        self.amnt=amnt\n"
   ]
  },
  {
   "cell_type": "code",
   "execution_count": 8,
   "id": "ca5d1921",
   "metadata": {},
   "outputs": [],
   "source": [
    "obj2=Expensetrack('1 jan','new year dinner','debit','30')"
   ]
  },
  {
   "cell_type": "code",
   "execution_count": 9,
   "id": "2b04cd5c",
   "metadata": {},
   "outputs": [],
   "source": [
    "obj3=Expensetrack('29 jan','salary','credit','3000')\n",
    "# every object have different instance you can have as many as you want with different values .\n",
    "#class act as blueprint\n",
    "#lets see some examples"
   ]
  },
  {
   "cell_type": "code",
   "execution_count": 10,
   "id": "0b846560",
   "metadata": {},
   "outputs": [
    {
     "data": {
      "text/plain": [
       "'1 jan'"
      ]
     },
     "execution_count": 10,
     "metadata": {},
     "output_type": "execute_result"
    }
   ],
   "source": [
    "obj2.date"
   ]
  },
  {
   "cell_type": "code",
   "execution_count": 11,
   "id": "60fb6de3",
   "metadata": {},
   "outputs": [
    {
     "data": {
      "text/plain": [
       "'29 jan'"
      ]
     },
     "execution_count": 11,
     "metadata": {},
     "output_type": "execute_result"
    }
   ],
   "source": [
    "obj3.date"
   ]
  },
  {
   "cell_type": "code",
   "execution_count": 12,
   "id": "f5a9c38e",
   "metadata": {},
   "outputs": [
    {
     "data": {
      "text/plain": [
       "'3000'"
      ]
     },
     "execution_count": 12,
     "metadata": {},
     "output_type": "execute_result"
    }
   ],
   "source": [
    "obj3.amnt"
   ]
  },
  {
   "cell_type": "code",
   "execution_count": 13,
   "id": "2ffbcda2",
   "metadata": {},
   "outputs": [
    {
     "data": {
      "text/plain": [
       "'30'"
      ]
     },
     "execution_count": 13,
     "metadata": {},
     "output_type": "execute_result"
    }
   ],
   "source": [
    "obj2.amnt"
   ]
  },
  {
   "cell_type": "code",
   "execution_count": null,
   "id": "67339e63",
   "metadata": {},
   "outputs": [],
   "source": []
  }
 ],
 "metadata": {
  "kernelspec": {
   "display_name": "Python 3 (ipykernel)",
   "language": "python",
   "name": "python3"
  },
  "language_info": {
   "codemirror_mode": {
    "name": "ipython",
    "version": 3
   },
   "file_extension": ".py",
   "mimetype": "text/x-python",
   "name": "python",
   "nbconvert_exporter": "python",
   "pygments_lexer": "ipython3",
   "version": "3.9.13"
  }
 },
 "nbformat": 4,
 "nbformat_minor": 5
}

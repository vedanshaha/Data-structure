{
 "cells": [
  {
   "cell_type": "code",
   "execution_count": 8,
   "id": "910f352e",
   "metadata": {},
   "outputs": [],
   "source": [
    "class Expensetracker:\n",
    "    '''will use class method in this class'''\n",
    "    #class attribute\n",
    "    expense_track_ver=0.1\n",
    "    def __init__(self,track_cat,org_bal,budget):\n",
    "        self.track_cat=track_cat\n",
    "        self.org_bal=org_bal\n",
    "        self.budget=budget\n",
    "        \n",
    "    #instance method\n",
    "    def get_org_bal(self):\n",
    "        return self.org_bal\n",
    "    \n",
    "    #static method\n",
    "    @staticmethod\n",
    "    def convert_bal(amount):\n",
    "        return float(amount)\n",
    "    \n",
    "    #class method are also known as Factory method\n",
    "    @classmethod\n",
    "    def get_attributes_from_string(cls,string:str):\n",
    "        \n",
    "        track_cat,org_bal,budget=string.split(\" \")\n",
    "        return Expensetracker(track_cat.capitalize(),\n",
    "                             cls.convert_bal(org_bal),\n",
    "                             cls.convert_bal(budget))\n",
    "        \n",
    "    "
   ]
  },
  {
   "cell_type": "code",
   "execution_count": 9,
   "id": "f07e71e4",
   "metadata": {},
   "outputs": [],
   "source": [
    "# by using class method geting objet attributes from a string\n",
    "class_obj= Expensetracker.get_attributes_from_string('movie 100 2000')"
   ]
  },
  {
   "cell_type": "code",
   "execution_count": 10,
   "id": "46f30648",
   "metadata": {},
   "outputs": [
    {
     "data": {
      "text/plain": [
       "{'track_cat': 'Movie', 'org_bal': 100.0, 'budget': 2000.0}"
      ]
     },
     "execution_count": 10,
     "metadata": {},
     "output_type": "execute_result"
    }
   ],
   "source": [
    "#succesfully covertd into attributes value\n",
    "class_obj.__dict__"
   ]
  },
  {
   "cell_type": "code",
   "execution_count": 11,
   "id": "df48405f",
   "metadata": {},
   "outputs": [
    {
     "data": {
      "text/plain": [
       "100.0"
      ]
     },
     "execution_count": 11,
     "metadata": {},
     "output_type": "execute_result"
    }
   ],
   "source": [
    "class_obj.org_bal"
   ]
  },
  {
   "cell_type": "code",
   "execution_count": null,
   "id": "fe30cd35",
   "metadata": {},
   "outputs": [],
   "source": []
  }
 ],
 "metadata": {
  "kernelspec": {
   "display_name": "Python 3 (ipykernel)",
   "language": "python",
   "name": "python3"
  },
  "language_info": {
   "codemirror_mode": {
    "name": "ipython",
    "version": 3
   },
   "file_extension": ".py",
   "mimetype": "text/x-python",
   "name": "python",
   "nbconvert_exporter": "python",
   "pygments_lexer": "ipython3",
   "version": "3.9.13"
  }
 },
 "nbformat": 4,
 "nbformat_minor": 5
}

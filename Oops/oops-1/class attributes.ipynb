{
 "cells": [
  {
   "cell_type": "code",
   "execution_count": 1,
   "id": "f4fb85eb",
   "metadata": {},
   "outputs": [],
   "source": [
    "class Expensetracker:\n",
    "    #class attribute\n",
    "    \n",
    "    def __init__(self,tracker_cat,open_balance,budget):\n",
    "        self.tracker_cat = tracker_cat\n",
    "        self.open_bal=open_balance\n",
    "        self.budget=budget\n",
    "    "
   ]
  },
  {
   "cell_type": "code",
   "execution_count": 2,
   "id": "3f461d6c",
   "metadata": {},
   "outputs": [
    {
     "ename": "TypeError",
     "evalue": "__init__() missing 3 required positional arguments: 'tracker_cat', 'open_balance', and 'budget'",
     "output_type": "error",
     "traceback": [
      "\u001b[1;31m---------------------------------------------------------------------------\u001b[0m",
      "\u001b[1;31mTypeError\u001b[0m                                 Traceback (most recent call last)",
      "\u001b[1;32m~\\AppData\\Local\\Temp\\ipykernel_6772\\470347848.py\u001b[0m in \u001b[0;36m<module>\u001b[1;34m\u001b[0m\n\u001b[0;32m      1\u001b[0m \u001b[1;31m#lets make a class\u001b[0m\u001b[1;33m\u001b[0m\u001b[1;33m\u001b[0m\u001b[0m\n\u001b[1;32m----> 2\u001b[1;33m \u001b[0mhome_track\u001b[0m \u001b[1;33m=\u001b[0m \u001b[0mExpensetracker\u001b[0m\u001b[1;33m(\u001b[0m\u001b[1;33m)\u001b[0m\u001b[1;33m\u001b[0m\u001b[1;33m\u001b[0m\u001b[0m\n\u001b[0m",
      "\u001b[1;31mTypeError\u001b[0m: __init__() missing 3 required positional arguments: 'tracker_cat', 'open_balance', and 'budget'"
     ]
    }
   ],
   "source": [
    "#lets make a class\n",
    "home_track = Expensetracker()\n",
    "#you need to pass the missing 3 required positional arguments"
   ]
  },
  {
   "cell_type": "code",
   "execution_count": 16,
   "id": "ab50c73b",
   "metadata": {},
   "outputs": [],
   "source": [
    "home_track = Expensetracker('home',3000,10000)"
   ]
  },
  {
   "cell_type": "code",
   "execution_count": 4,
   "id": "d50aa8db",
   "metadata": {},
   "outputs": [
    {
     "data": {
      "text/plain": [
       "'home'"
      ]
     },
     "execution_count": 4,
     "metadata": {},
     "output_type": "execute_result"
    }
   ],
   "source": [
    "home_track.tracker_cat"
   ]
  },
  {
   "cell_type": "code",
   "execution_count": 5,
   "id": "f20da6b3",
   "metadata": {},
   "outputs": [],
   "source": [
    "office_track = Expensetracker('office',1000,30000)"
   ]
  },
  {
   "cell_type": "code",
   "execution_count": 6,
   "id": "92ccd65d",
   "metadata": {},
   "outputs": [
    {
     "data": {
      "text/plain": [
       "'office'"
      ]
     },
     "execution_count": 6,
     "metadata": {},
     "output_type": "execute_result"
    }
   ],
   "source": [
    "office_track.tracker_cat"
   ]
  },
  {
   "cell_type": "code",
   "execution_count": 7,
   "id": "0a353a00",
   "metadata": {},
   "outputs": [
    {
     "data": {
      "text/plain": [
       "{'tracker_cat': 'home', 'open_bal': 3000, 'budget': 10000}"
      ]
     },
     "execution_count": 7,
     "metadata": {},
     "output_type": "execute_result"
    }
   ],
   "source": [
    "#make all the attribute of a calss with respect to the objet into a dictionary \n",
    "home_track.__dict__"
   ]
  },
  {
   "cell_type": "code",
   "execution_count": 9,
   "id": "5d0c8ed1",
   "metadata": {},
   "outputs": [
    {
     "data": {
      "text/plain": [
       "3000"
      ]
     },
     "execution_count": 9,
     "metadata": {},
     "output_type": "execute_result"
    }
   ],
   "source": [
    "# you can use getsttr to se a value\n",
    "getattr(home_track,'open_bal')"
   ]
  },
  {
   "cell_type": "code",
   "execution_count": 11,
   "id": "00a3f3ba",
   "metadata": {},
   "outputs": [
    {
     "data": {
      "text/plain": [
       "False"
      ]
     },
     "execution_count": 11,
     "metadata": {},
     "output_type": "execute_result"
    }
   ],
   "source": [
    "# hasattr to check the attribute is prensent or not\n",
    "hasattr(home_track,'open')"
   ]
  },
  {
   "cell_type": "code",
   "execution_count": 17,
   "id": "3f0efa54",
   "metadata": {},
   "outputs": [],
   "source": [
    "delattr(home_track,'open_bal')\n"
   ]
  },
  {
   "cell_type": "code",
   "execution_count": 18,
   "id": "20d3a9ca",
   "metadata": {},
   "outputs": [
    {
     "data": {
      "text/plain": [
       "{'tracker_cat': 'home', 'budget': 10000}"
      ]
     },
     "execution_count": 18,
     "metadata": {},
     "output_type": "execute_result"
    }
   ],
   "source": [
    "home_track.__dict__"
   ]
  },
  {
   "cell_type": "code",
   "execution_count": null,
   "id": "e3d1ac1e",
   "metadata": {},
   "outputs": [],
   "source": []
  }
 ],
 "metadata": {
  "kernelspec": {
   "display_name": "Python 3 (ipykernel)",
   "language": "python",
   "name": "python3"
  },
  "language_info": {
   "codemirror_mode": {
    "name": "ipython",
    "version": 3
   },
   "file_extension": ".py",
   "mimetype": "text/x-python",
   "name": "python",
   "nbconvert_exporter": "python",
   "pygments_lexer": "ipython3",
   "version": "3.9.13"
  }
 },
 "nbformat": 4,
 "nbformat_minor": 5
}

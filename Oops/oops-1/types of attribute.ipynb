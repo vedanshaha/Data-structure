{
 "cells": [
  {
   "cell_type": "code",
   "execution_count": 2,
   "id": "9805f17f",
   "metadata": {},
   "outputs": [],
   "source": [
    "#class attribute is same for evry object and instance but instance attributes are different of every objects\n",
    "class Expensetracker:\n",
    "    #class attribute\n",
    "    expense_version_tracker=0.1\n",
    "    \n",
    "    def __init__(self,tracker_cat,open_balance,budget):\n",
    "        #instance/object attributes\n",
    "        self.tracker_cat = tracker_cat\n",
    "        self.open_bal=open_balance\n",
    "        self.budget=budget\n",
    "    "
   ]
  },
  {
   "cell_type": "code",
   "execution_count": 3,
   "id": "3794db51",
   "metadata": {},
   "outputs": [],
   "source": [
    "# lets see that by an example\n",
    "home_trac=Expensetracker('home',10,200)\n",
    "shopping_trac=Expensetracker('shop',20,300)"
   ]
  },
  {
   "cell_type": "code",
   "execution_count": 5,
   "id": "96508bae",
   "metadata": {},
   "outputs": [
    {
     "data": {
      "text/plain": [
       "'home'"
      ]
     },
     "execution_count": 5,
     "metadata": {},
     "output_type": "execute_result"
    }
   ],
   "source": [
    "#different value for both object for attribute tracker_cat \n",
    "home_trac.tracker_cat"
   ]
  },
  {
   "cell_type": "code",
   "execution_count": 6,
   "id": "0b59973a",
   "metadata": {},
   "outputs": [
    {
     "data": {
      "text/plain": [
       "'shop'"
      ]
     },
     "execution_count": 6,
     "metadata": {},
     "output_type": "execute_result"
    }
   ],
   "source": [
    "#different value for both object for attribute tracker_cat \n",
    "shopping_trac.tracker_cat"
   ]
  },
  {
   "cell_type": "code",
   "execution_count": 7,
   "id": "43503472",
   "metadata": {},
   "outputs": [
    {
     "data": {
      "text/plain": [
       "0.1"
      ]
     },
     "execution_count": 7,
     "metadata": {},
     "output_type": "execute_result"
    }
   ],
   "source": [
    "shopping_trac.expense_version_tracker"
   ]
  },
  {
   "cell_type": "code",
   "execution_count": 8,
   "id": "2f646746",
   "metadata": {},
   "outputs": [
    {
     "data": {
      "text/plain": [
       "0.1"
      ]
     },
     "execution_count": 8,
     "metadata": {},
     "output_type": "execute_result"
    }
   ],
   "source": [
    "home_trac.expense_version_tracker"
   ]
  },
  {
   "cell_type": "code",
   "execution_count": null,
   "id": "756bb486",
   "metadata": {},
   "outputs": [],
   "source": [
    "# same value for class attribute "
   ]
  }
 ],
 "metadata": {
  "kernelspec": {
   "display_name": "Python 3 (ipykernel)",
   "language": "python",
   "name": "python3"
  },
  "language_info": {
   "codemirror_mode": {
    "name": "ipython",
    "version": 3
   },
   "file_extension": ".py",
   "mimetype": "text/x-python",
   "name": "python",
   "nbconvert_exporter": "python",
   "pygments_lexer": "ipython3",
   "version": "3.9.13"
  }
 },
 "nbformat": 4,
 "nbformat_minor": 5
}

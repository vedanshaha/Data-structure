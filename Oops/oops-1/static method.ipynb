{
 "cells": [
  {
   "cell_type": "code",
   "execution_count": 6,
   "id": "77b085fb",
   "metadata": {},
   "outputs": [],
   "source": [
    "class Expensetracker:\n",
    "    '''will use static method in this class'''\n",
    "    #class attribute\n",
    "    expense_track_ver=0.1\n",
    "    def __init__(self,track_cat,org_bal,budget):\n",
    "        self.track_cat=track_cat\n",
    "        self.org_bal=org_bal\n",
    "        self.budget=budget\n",
    "        \n",
    "    #instance method\n",
    "    def get_org_bal(self):\n",
    "        return self.org_bal\n",
    "    \n",
    "    #static method\n",
    "    @staticmethod\n",
    "    def convert_bal(amount):\n",
    "        return float(amount)\n",
    "        \n",
    "    "
   ]
  },
  {
   "cell_type": "code",
   "execution_count": 7,
   "id": "b6bda91a",
   "metadata": {},
   "outputs": [],
   "source": [
    "ob1= Expensetracker('college',20,100)"
   ]
  },
  {
   "cell_type": "code",
   "execution_count": 8,
   "id": "a4f53e26",
   "metadata": {},
   "outputs": [
    {
     "data": {
      "text/plain": [
       "20"
      ]
     },
     "execution_count": 8,
     "metadata": {},
     "output_type": "execute_result"
    }
   ],
   "source": [
    "#acessing instance method to get the values direct without using objet attributes\n",
    "ob1.get_org_bal()"
   ]
  },
  {
   "cell_type": "code",
   "execution_count": 13,
   "id": "0468752b",
   "metadata": {},
   "outputs": [
    {
     "data": {
      "text/plain": [
       "100.0"
      ]
     },
     "execution_count": 13,
     "metadata": {},
     "output_type": "execute_result"
    }
   ],
   "source": [
    "#using static method to get balance in float\n",
    "#main differnce between static and instance method is static does not use self\n",
    "#static method is used to display some additional information it is not preferly used in object oriented prog\n",
    "ob1.convert_bal(100)"
   ]
  },
  {
   "cell_type": "code",
   "execution_count": null,
   "id": "3019c712",
   "metadata": {},
   "outputs": [],
   "source": []
  }
 ],
 "metadata": {
  "kernelspec": {
   "display_name": "Python 3 (ipykernel)",
   "language": "python",
   "name": "python3"
  },
  "language_info": {
   "codemirror_mode": {
    "name": "ipython",
    "version": 3
   },
   "file_extension": ".py",
   "mimetype": "text/x-python",
   "name": "python",
   "nbconvert_exporter": "python",
   "pygments_lexer": "ipython3",
   "version": "3.9.13"
  }
 },
 "nbformat": 4,
 "nbformat_minor": 5
}

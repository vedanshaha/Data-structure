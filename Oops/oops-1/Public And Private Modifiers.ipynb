{
 "cells": [
  {
   "cell_type": "code",
   "execution_count": 10,
   "id": "b4a9847f",
   "metadata": {},
   "outputs": [],
   "source": [
    "class Expensetracker:\n",
    "    '''will use public and private modifier in this class'''\n",
    "    #class attribute\n",
    "    expense_track_ver=0.1\n",
    "    def __init__(self,track_cat,org_bal,budget):\n",
    "        #public Attribute\n",
    "        self.track_cat=track_cat\n",
    "        #private attribute\n",
    "        ##__ double underscore is used to declare private attributes\n",
    "        self.__org_bal=org_bal\n",
    "        self.__budget=budget\n",
    "        \n",
    "    #instance method\n",
    "    #private method\n",
    "    def __get_org_bal(self):\n",
    "        return self.__org_bal\n",
    "    \n",
    "    #static method\n",
    "    @staticmethod\n",
    "    def convert_bal(amount):\n",
    "        return float(amount)\n",
    "    \n",
    "    #class method are also known as Factory method\n",
    "    @classmethod\n",
    "    def get_attributes_from_string(cls,string:str):\n",
    "        \n",
    "        track_cat,org_bal,budget=string.split(\" \")\n",
    "        return Expensetracker(track_cat.capitalize(),\n",
    "                             cls.convert_bal(org_bal),\n",
    "                             cls.convert_bal(budget))\n",
    "        \n",
    "    "
   ]
  },
  {
   "cell_type": "code",
   "execution_count": 11,
   "id": "e128f5b3",
   "metadata": {},
   "outputs": [],
   "source": [
    "home= Expensetracker('home',10,100)"
   ]
  },
  {
   "cell_type": "code",
   "execution_count": 3,
   "id": "8748a986",
   "metadata": {},
   "outputs": [
    {
     "data": {
      "text/plain": [
       "'home'"
      ]
     },
     "execution_count": 3,
     "metadata": {},
     "output_type": "execute_result"
    }
   ],
   "source": [
    "#able to access public attributes through object\n",
    "home.track_cat"
   ]
  },
  {
   "cell_type": "code",
   "execution_count": 4,
   "id": "38244854",
   "metadata": {},
   "outputs": [
    {
     "ename": "AttributeError",
     "evalue": "'Expensetracker' object has no attribute 'org_bal'",
     "output_type": "error",
     "traceback": [
      "\u001b[1;31m---------------------------------------------------------------------------\u001b[0m",
      "\u001b[1;31mAttributeError\u001b[0m                            Traceback (most recent call last)",
      "\u001b[1;32m~\\AppData\\Local\\Temp\\ipykernel_13552\\2146940465.py\u001b[0m in \u001b[0;36m<module>\u001b[1;34m\u001b[0m\n\u001b[1;32m----> 1\u001b[1;33m \u001b[0mhome\u001b[0m\u001b[1;33m.\u001b[0m\u001b[0morg_bal\u001b[0m\u001b[1;33m\u001b[0m\u001b[1;33m\u001b[0m\u001b[0m\n\u001b[0m",
      "\u001b[1;31mAttributeError\u001b[0m: 'Expensetracker' object has no attribute 'org_bal'"
     ]
    }
   ],
   "source": [
    "#Not able to access private attributes through object\n",
    "home.org_bal"
   ]
  },
  {
   "cell_type": "code",
   "execution_count": 5,
   "id": "9f39a122",
   "metadata": {},
   "outputs": [
    {
     "ename": "AttributeError",
     "evalue": "'Expensetracker' object has no attribute '__org_bal'",
     "output_type": "error",
     "traceback": [
      "\u001b[1;31m---------------------------------------------------------------------------\u001b[0m",
      "\u001b[1;31mAttributeError\u001b[0m                            Traceback (most recent call last)",
      "\u001b[1;32m~\\AppData\\Local\\Temp\\ipykernel_13552\\1145564152.py\u001b[0m in \u001b[0;36m<module>\u001b[1;34m\u001b[0m\n\u001b[1;32m----> 1\u001b[1;33m \u001b[0mhome\u001b[0m\u001b[1;33m.\u001b[0m\u001b[0m__org_bal\u001b[0m\u001b[1;33m\u001b[0m\u001b[1;33m\u001b[0m\u001b[0m\n\u001b[0m",
      "\u001b[1;31mAttributeError\u001b[0m: 'Expensetracker' object has no attribute '__org_bal'"
     ]
    }
   ],
   "source": [
    "#Not able to access private attributes through object\n",
    "home.__org_bal"
   ]
  },
  {
   "cell_type": "code",
   "execution_count": 6,
   "id": "5303a019",
   "metadata": {},
   "outputs": [
    {
     "ename": "AttributeError",
     "evalue": "'Expensetracker' object has no attribute '__get_org_bal'",
     "output_type": "error",
     "traceback": [
      "\u001b[1;31m---------------------------------------------------------------------------\u001b[0m",
      "\u001b[1;31mAttributeError\u001b[0m                            Traceback (most recent call last)",
      "\u001b[1;32m~\\AppData\\Local\\Temp\\ipykernel_13552\\887001542.py\u001b[0m in \u001b[0;36m<module>\u001b[1;34m\u001b[0m\n\u001b[1;32m----> 1\u001b[1;33m \u001b[0mhome\u001b[0m\u001b[1;33m.\u001b[0m\u001b[0m__get_org_bal\u001b[0m\u001b[1;33m(\u001b[0m\u001b[1;33m)\u001b[0m\u001b[1;33m\u001b[0m\u001b[1;33m\u001b[0m\u001b[0m\n\u001b[0m",
      "\u001b[1;31mAttributeError\u001b[0m: 'Expensetracker' object has no attribute '__get_org_bal'"
     ]
    }
   ],
   "source": [
    "#Not able to access private method through object\n",
    "home.__get_org_bal()"
   ]
  },
  {
   "cell_type": "code",
   "execution_count": 7,
   "id": "52c9132b",
   "metadata": {},
   "outputs": [
    {
     "data": {
      "text/plain": [
       "{'track_cat': 'home',\n",
       " '_Expensetracker__org_bal': 10,\n",
       " '_Expensetracker__budget': 100}"
      ]
     },
     "execution_count": 7,
     "metadata": {},
     "output_type": "execute_result"
    }
   ],
   "source": [
    "#able to view athe attribute via __dict__ method\n",
    "home.__dict__"
   ]
  },
  {
   "cell_type": "code",
   "execution_count": 13,
   "id": "5f4de441",
   "metadata": {},
   "outputs": [
    {
     "data": {
      "text/plain": [
       "100"
      ]
     },
     "execution_count": 13,
     "metadata": {},
     "output_type": "execute_result"
    }
   ],
   "source": [
    "# you can access private method or attribute by this \n",
    "home._Expensetracker__budget"
   ]
  },
  {
   "cell_type": "code",
   "execution_count": 12,
   "id": "42b92159",
   "metadata": {},
   "outputs": [
    {
     "data": {
      "text/plain": [
       "10"
      ]
     },
     "execution_count": 12,
     "metadata": {},
     "output_type": "execute_result"
    }
   ],
   "source": [
    "home._Expensetracker__get_org_bal()"
   ]
  },
  {
   "cell_type": "code",
   "execution_count": null,
   "id": "86dfd8b0",
   "metadata": {},
   "outputs": [],
   "source": []
  }
 ],
 "metadata": {
  "kernelspec": {
   "display_name": "Python 3 (ipykernel)",
   "language": "python",
   "name": "python3"
  },
  "language_info": {
   "codemirror_mode": {
    "name": "ipython",
    "version": 3
   },
   "file_extension": ".py",
   "mimetype": "text/x-python",
   "name": "python",
   "nbconvert_exporter": "python",
   "pygments_lexer": "ipython3",
   "version": "3.9.13"
  }
 },
 "nbformat": 4,
 "nbformat_minor": 5
}
